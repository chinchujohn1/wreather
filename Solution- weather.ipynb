{
 "cells": [
  {
   "cell_type": "code",
   "execution_count": 43,
   "metadata": {},
   "outputs": [
    {
     "name": "stdout",
     "output_type": "stream",
     "text": [
      "Requirement already satisfied: openweathermapy in c:\\users\\chinc\\anaconda3\\lib\\site-packages\n"
     ]
    }
   ],
   "source": [
    "!pip install openweathermapy\n",
    "\n"
   ]
  },
  {
   "cell_type": "code",
   "execution_count": 44,
   "metadata": {},
   "outputs": [
    {
     "name": "stdout",
     "output_type": "stream",
     "text": [
      "Requirement already satisfied: citipy in c:\\users\\chinc\\anaconda3\\lib\\site-packages\n",
      "Requirement already satisfied: kdtree>=0.12 in c:\\users\\chinc\\anaconda3\\lib\\site-packages (from citipy)\n"
     ]
    }
   ],
   "source": [
    "!pip install citipy"
   ]
  },
  {
   "cell_type": "code",
   "execution_count": 58,
   "metadata": {
    "collapsed": true
   },
   "outputs": [],
   "source": [
    "import csv\n",
    "import matplotlib.pyplot as plt\n",
    "import requests \n",
    "import pandas as pd\n",
    "import numpy as np\n",
    "import time\n",
    "import seaborn as sns\n",
    "import openweathermapy.core as ow\n",
    "  "
   ]
  },
  {
   "cell_type": "code",
   "execution_count": 59,
   "metadata": {
    "collapsed": true
   },
   "outputs": [],
   "source": [
    "from citipy import citipy"
   ]
  },
  {
   "cell_type": "code",
   "execution_count": 60,
   "metadata": {},
   "outputs": [
    {
     "data": {
      "text/plain": [
       "582"
      ]
     },
     "execution_count": 60,
     "metadata": {},
     "output_type": "execute_result"
    }
   ],
   "source": [
    "# List for holding lat_lngs and cities\n",
    "lat_lngs = []\n",
    "cities = []\n",
    "\n",
    "# Create a set of random lat and lng combinations\n",
    "lats = np.random.uniform(low=15.000, high=55.000, size=1500)\n",
    "lngs = np.random.uniform(low=-135.000, high=0.000, size=1500)\n",
    "lat_lngs = zip(lats, lngs)\n",
    "\n",
    "# Identify nearest city for each lat, lng combination\n",
    "for lat_lng in lat_lngs:\n",
    "    city = citipy.nearest_city(lat_lng[0], lat_lng[1]).city_name\n",
    "    \n",
    "# Print the city count to confirm sufficient count\n",
    "# If the city is unique, then add it to a our cities list\\n\",\n",
    "    if city not in cities:\n",
    "        cities.append(city)\n",
    "    \n",
    "len(cities)"
   ]
  },
  {
   "cell_type": "code",
   "execution_count": 61,
   "metadata": {},
   "outputs": [
    {
     "data": {
      "text/plain": [
       "<zip at 0x247631329c8>"
      ]
     },
     "execution_count": 61,
     "metadata": {},
     "output_type": "execute_result"
    }
   ],
   "source": [
    "lat_lngs"
   ]
  },
  {
   "cell_type": "code",
   "execution_count": 62,
   "metadata": {},
   "outputs": [],
   "source": [
    "# Save config information.\n",
    "api_key = \"25bc90a1196e6f153eece0bc0b0fc9eb\"\n",
    "#url = \"http://api.openweathermap.org/data/2.5/weather?\"\n",
    "settings={\"unit\":'Imperial', \"apid\":api_key}\n",
    "\n",
    "\n",
    "\n",
    " \n",
    "      \n"
   ]
  },
  {
   "cell_type": "code",
   "execution_count": 63,
   "metadata": {},
   "outputs": [
    {
     "data": {
      "text/html": [
       "<div>\n",
       "<style>\n",
       "    .dataframe thead tr:only-child th {\n",
       "        text-align: right;\n",
       "    }\n",
       "\n",
       "    .dataframe thead th {\n",
       "        text-align: left;\n",
       "    }\n",
       "\n",
       "    .dataframe tbody tr th {\n",
       "        vertical-align: top;\n",
       "    }\n",
       "</style>\n",
       "<table border=\"1\" class=\"dataframe\">\n",
       "  <thead>\n",
       "    <tr style=\"text-align: right;\">\n",
       "      <th></th>\n",
       "      <th>city</th>\n",
       "      <th>lat</th>\n",
       "      <th>temp</th>\n",
       "      <th>humidity</th>\n",
       "      <th>cloudiness</th>\n",
       "      <th>winds</th>\n",
       "    </tr>\n",
       "  </thead>\n",
       "  <tbody>\n",
       "    <tr>\n",
       "      <th>0</th>\n",
       "      <td>saint george</td>\n",
       "      <td></td>\n",
       "      <td></td>\n",
       "      <td></td>\n",
       "      <td></td>\n",
       "      <td></td>\n",
       "    </tr>\n",
       "    <tr>\n",
       "      <th>1</th>\n",
       "      <td>merritt island</td>\n",
       "      <td></td>\n",
       "      <td></td>\n",
       "      <td></td>\n",
       "      <td></td>\n",
       "      <td></td>\n",
       "    </tr>\n",
       "    <tr>\n",
       "      <th>2</th>\n",
       "      <td>hanna</td>\n",
       "      <td></td>\n",
       "      <td></td>\n",
       "      <td></td>\n",
       "      <td></td>\n",
       "      <td></td>\n",
       "    </tr>\n",
       "    <tr>\n",
       "      <th>3</th>\n",
       "      <td>storm lake</td>\n",
       "      <td></td>\n",
       "      <td></td>\n",
       "      <td></td>\n",
       "      <td></td>\n",
       "      <td></td>\n",
       "    </tr>\n",
       "    <tr>\n",
       "      <th>4</th>\n",
       "      <td>englewood</td>\n",
       "      <td></td>\n",
       "      <td></td>\n",
       "      <td></td>\n",
       "      <td></td>\n",
       "      <td></td>\n",
       "    </tr>\n",
       "  </tbody>\n",
       "</table>\n",
       "</div>"
      ],
      "text/plain": [
       "             city lat temp humidity cloudiness winds\n",
       "0    saint george                                   \n",
       "1  merritt island                                   \n",
       "2           hanna                                   \n",
       "3      storm lake                                   \n",
       "4       englewood                                   "
      ]
     },
     "execution_count": 63,
     "metadata": {},
     "output_type": "execute_result"
    }
   ],
   "source": [
    "weather_data = {\"city\": cities}\n",
    "weather_data = pd.DataFrame(weather_data)\n",
    "weather_data['lat']=''\n",
    "weather_data['temp']=''\n",
    "weather_data['humidity']=''\n",
    "weather_data['cloudiness']=''\n",
    "weather_data['winds']=''\n",
    "\n",
    "\n",
    "weather_data.head()\n",
    "\n"
   ]
  },
  {
   "cell_type": "code",
   "execution_count": 64,
   "metadata": {},
   "outputs": [
    {
     "name": "stdout",
     "output_type": "stream",
     "text": [
      "saint george merritt island hanna storm lake englewood elko areosa vila franca do campo rancho palos verdes gao beatrice van buren port hardy tasiilaq cape canaveral torbay praia da vitoria cedar city constitucion sweetwater ribeira grande lompoc santiago do cacem cap-aux-meules attawapiskat plouzane codrington ponta do sol port hueneme araouane baker city bloomfield los llanos de aridane saint-augustin belgrade la union vila nova de milfontes sabinas hearst channel-port aux basques bayshore gardens bathsheba saint-ambroise saint-francois santa cruz de rosales cockburn harbour nador onda ponta delgada matane nouadhibou fortuna las vegas la reforma lazaro cardenas macomb rock sound valle de juarez pacifica key largo sept-iles kinsale guerrero negro burns lake melilla gillette jamestown lagos cabo san lucas glace bay lagoa madera nantucket marrakesh saint anthony watertown road town show low nanortalik la orilla albany marion winnemucca magnolia muros hilo north bend marsh harbour campbell river saumur port-cartier north platte west wendover san pedro de macoris falmouth tamiahua portmore hamilton san jeronimo aguimes gloucester conneaut camalu apex ericeira safford fort smith back mountain saint albans kayes plerin key west la baule-escoublac manitouwadge irving hollins satao douentza azimur salem camacha sioux lookout pacific grove houma havelock tias jimenez meadville stratford saint-cesaire apple valley nouakchott tiznit bonavista todos santos cockburn town barstow caldwell marshall dodge city tawnat hornepayne port hawkesbury dingle isla vista san patricio eureka cochrane lewiston coacoatzintla seminole rabo de peixe bababe tessalit nampa grindavik crab hill saint-pierre santa rosalia bar harbor cape elizabeth lincoln oakville la cruz jackson rosarito progreso vernon chapleau isla mujeres woodward north adams jalpa san luis rio colorado magna villanueva de cordoba yankton sainte-anne-des-monts whitecourt belvidere borger tecoanapa the pas utica san quintin taoudenni asfi connersville liverpool midland west bay chapais black river trinidad livingston hastings cognac frankfort arroyo san felipe moose factory prince rupert skibbereen mrirt lakeway picton port saint john kokomo aljezur nassau marshfield jacmel san juan beaufort estacion coahuila pierre shelburne little current san marcos altamont dauphin sinnamary redlands placerville half moon bay louisbourg acaponeta kingsland thompson san blas cuenca bamboo vestmannaeyjar wazzan nara canandaigua baie-comeau walla walla santa maria hondo atar ukiah tooele galveston el dorado taft timmins jaca fort morgan havre-saint-pierre gonaives aflu sydney canico ravenna ojinaga brownwood bonao peru tomatlan fort myers beach rolla kenora tombouctou dentsville puerto del rosario lanigan dolbeau delano haverfordwest two rivers isabela porto novo effingham belle glade fountain hills langenburg fez yarmouth panama city whitefish mulege new ross punta umbria mason city havre steamboat springs chino valley snyder littlehampton bodden town yucca valley higuey beaver dam springhill emporia brownfield spencer cayenne roanoke rapids bahia honda maghama newport chubbuck andros town lake city susanville la tuque paducah pedernales saint andrews pascagoula champoton guadalupe y calvo nacogdoches miles city grande-riviere mastic beach fremont pecos lexington estevan mankato evanston kapuskasing georgetown freeport ocotepec burgeo virginia beach morden truth or consequences deming pamplona hauterive lewisburg adrar coahuayana nagua ejea de los caballeros chippewa falls hurricane conway killybegs beaverlodge sturgis glen allen mantua carballo icod de los vinos amos tarudant dedham east hemet belmopan elliot lake casablanca north battleford lillooet auburndale coos bay etchoropo forest grove llanes hatillo oswego neepawa lincoln village nioro enid bay roberts santa cruz dawson creek southbridge rockport bucerias high rock jerez sao filipe peniche oromocto fernandez guarda gimli big rapids penzance mount pleasant tres picos cascais ridgecrest douglas great bend kitimat rathdrum concarneau rumford provost valparaiso cervo biscarrosse camden hayden fort frances matagami ayotzintepec winona lumsden sunbury ahumada nuevo progreso west plains pendleton ocampo espanola west monroe bemidji vicksburg warman san fernando thomasville badajoz ucluelet mount airy escarcega temple peachland weyburn los zacatones wilmington pinos les cayes atikokan dolores hidalgo west chester sheridan moultrie harbour breton the valley farmington pampa bull savanna denton clarence town cozumel galdar sonoita tlacotepec mandan teguise les escoumins hilton head island brooks baraboo lloydminster oroville woodburn bogalusa sudbury la antigua torrelavega vincennes grand island dzilam gonzalez creel miramar savannah bight indian head baza fallon fort saint james hattiesburg bobcaygeon ixtapa ketchikan santa fe eden port townsend bicester agadir greenville longlac west lafayette preston sussex san angelo sable-sur-sarthe vanderhoof sainte-thecle altoona rantoul stuttgart otumba onalaska ruston grenada independence terrace bay lake havasu city sandy bay pemberton brigantine helena marystown cleveland garden city puga abbeville dillon charlestown castleisland port lavaca arrifes channahon brigham city one hundred mile house loiza martil albert lea cave spring barra patuca ponferrada loveland guadalupe victoria sines matamoros notre-dame-du-lac tupelo cap-chat altus ciudad del maiz hermosillo marquette findlay albuquerque dubuque picayune canmore arcachon ramos arizpe salamanca tottenham athenry maneadero caraquet saint john kidal waterloo ranchuelo redditch buenos aires camp verde coulihaut ferrol tenosique eastlake banbury geraldton elk city sal rei shaunavon panaba niles cullman davidson sunderland saint joseph new albany shediac sechelt smyrna nogales destin pincher creek white rock elizabeth city calatayud tamiami valley fostoria puerto penasco calabazar de sagua devils lake "
     ]
    }
   ],
   "source": [
    "city = []\n",
    "for index, row in weather_data.iterrows():\n",
    "    try:\n",
    "        current_weather = ow.get_current(row['city'], **settings)\n",
    "        weather_data.set_value(index,'lat',current_weather['coord']['lat'])\n",
    "        weather_data.set_value(index,'temp',current_weather['main']['temp'])\n",
    "        weather_data.set_value(index,'humidity',current_weather['main']['humidity'])\n",
    "        weather_data.set_value(index,'cloudiness',current_weather['clouds']['all'])\n",
    "        weather_data.set_value(index,'winds',current_weather['wind']['speed'])\n",
    "        city.append(row['city'])\n",
    "        print('--', end=' ')\n",
    "    except:\n",
    "        print(row['city'], end = ' ')\n",
    "   "
   ]
  },
  {
   "cell_type": "code",
   "execution_count": 57,
   "metadata": {},
   "outputs": [
    {
     "data": {
      "text/html": [
       "<div>\n",
       "<style>\n",
       "    .dataframe thead tr:only-child th {\n",
       "        text-align: right;\n",
       "    }\n",
       "\n",
       "    .dataframe thead th {\n",
       "        text-align: left;\n",
       "    }\n",
       "\n",
       "    .dataframe tbody tr th {\n",
       "        vertical-align: top;\n",
       "    }\n",
       "</style>\n",
       "<table border=\"1\" class=\"dataframe\">\n",
       "  <thead>\n",
       "    <tr style=\"text-align: right;\">\n",
       "      <th></th>\n",
       "      <th>city</th>\n",
       "      <th>lat</th>\n",
       "      <th>temp</th>\n",
       "      <th>humidity</th>\n",
       "      <th>cloudiness</th>\n",
       "      <th>winds</th>\n",
       "    </tr>\n",
       "  </thead>\n",
       "  <tbody>\n",
       "  </tbody>\n",
       "</table>\n",
       "</div>"
      ],
      "text/plain": [
       "Empty DataFrame\n",
       "Columns: [city, lat, temp, humidity, cloudiness, winds]\n",
       "Index: []"
      ]
     },
     "execution_count": 57,
     "metadata": {},
     "output_type": "execute_result"
    }
   ],
   "source": [
    "#only keep data that we found values\n",
    "weather_data = weather_data[weather_data['city'].isin(city)]\n",
    "weather_data.head()"
   ]
  },
  {
   "cell_type": "code",
   "execution_count": 38,
   "metadata": {},
   "outputs": [
    {
     "data": {
      "image/png": "[encoded data removed]",
      "text/plain": [
       "<matplotlib.figure.Figure at 0x24762aa4390>"
      ]
     },
     "metadata": {},
     "output_type": "display_data"
    }
   ],
   "source": [
    "sns.lmplot(x='lat',y='temp', data=weather_data, fit_reg=False)\n",
    "plt.title('Temperature vs Latitude'),\n",
    "plt.xlabel('Latitude')\n",
    "plt.ylabel('Temperature')\n",
    "plt.show()"
   ]
  },
  {
   "cell_type": "code",
   "execution_count": 39,
   "metadata": {},
   "outputs": [
    {
     "data": {
      "image/png": "[encoded data removed]",
      "text/plain": [
       "<matplotlib.figure.Figure at 0x24762e61978>"
      ]
     },
     "metadata": {},
     "output_type": "display_data"
    }
   ],
   "source": [
    "sns.lmplot(x='lat',y='humidity', data= weather_data, fit_reg=False)\n",
    "plt.title('Humidity vs Latitude')\n",
    "plt.xlabel('Latitude')\n",
    "plt.ylabel('Humidity')\n",
    "plt.show()"
   ]
  },
  {
   "cell_type": "code",
   "execution_count": 40,
   "metadata": {},
   "outputs": [
    {
     "data": {
      "image/png": "[encoded data removed]",
      "text/plain": [
       "<matplotlib.figure.Figure at 0x24762ef1ba8>"
      ]
     },
     "metadata": {},
     "output_type": "display_data"
    }
   ],
   "source": [
    "sns.lmplot(x='lat',y='cloudiness', data=weather_data, fit_reg=False)\n",
    "plt.title('Cloudiness vs Latitude')\n",
    "plt.xlabel('latitude')\n",
    "plt.ylabel('cloudiness')\n",
    "plt.show()"
   ]
  },
  {
   "cell_type": "code",
   "execution_count": 42,
   "metadata": {},
   "outputs": [
    {
     "data": {
      "image/png": "[encoded data removed]",
      "text/plain": [
       "<matplotlib.figure.Figure at 0x2476300cf60>"
      ]
     },
     "metadata": {},
     "output_type": "display_data"
    }
   ],
   "source": [
    "sns.lmplot(x='lat',y='winds', data=weather_data, fit_reg=False)\n",
    "plt.title('Windspeed vs Latitude')\n",
    "plt.xlabel('Latitude')\n",
    "plt.ylabel('Windspeed')\n",
    "plt.show()"
   ]
  },
  {
   "cell_type": "code",
   "execution_count": null,
   "metadata": {
    "collapsed": true
   },
   "outputs": [],
   "source": []
  },
  {
   "cell_type": "code",
   "execution_count": null,
   "metadata": {
    "collapsed": true
   },
   "outputs": [],
   "source": []
  },
  {
   "cell_type": "code",
   "execution_count": null,
   "metadata": {
    "collapsed": true
   },
   "outputs": [],
   "source": []
  }
 ],
 "metadata": {
  "kernelspec": {
   "display_name": "Python 3",
   "language": "python",
   "name": "python3"
  },
  "language_info": {
   "codemirror_mode": {
    "name": "ipython",
    "version": 3
   },
   "file_extension": ".py",
   "mimetype": "text/x-python",
   "name": "python",
   "nbconvert_exporter": "python",
   "pygments_lexer": "ipython3",
   "version": "3.6.2"
  }
 },
 "nbformat": 4,
 "nbformat_minor": 2
}
